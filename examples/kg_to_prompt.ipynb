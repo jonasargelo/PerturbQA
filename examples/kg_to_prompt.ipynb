{
 "cells": [
  {
   "cell_type": "markdown",
   "id": "66176d46-f1fa-4870-8f5e-73f09080fcfc",
   "metadata": {},
   "source": [
    "# From knowledge graphs to summarization prompts"
   ]
  },
  {
   "cell_type": "code",
   "execution_count": 13,
   "id": "903222e1-b086-481a-afd2-bd943f3f56fe",
   "metadata": {},
   "outputs": [
    {
     "name": "stderr",
     "output_type": "stream",
     "text": [
      "/home/j.argelo/.conda/envs/cell2sentence/lib/python3.8/site-packages/tqdm/auto.py:21: TqdmWarning: IProgress not found. Please update jupyter and ipywidgets. See https://ipywidgets.readthedocs.io/en/stable/user_install.html\n",
      "  from .autonotebook import tqdm as notebook_tqdm\n"
     ]
    }
   ],
   "source": [
    "import os\n",
    "import re\n",
    "import json\n",
    "import itertools\n",
    "from collections import defaultdict\n",
    "from tqdm.auto import tqdm\n",
    "\n",
    "import pandas as pd\n"
   ]
  },
  {
   "cell_type": "markdown",
   "id": "e11d1bf6-6441-4c3a-b4b5-08004e34d716",
   "metadata": {},
   "source": [
    "## Genes of interest\n",
    "\n",
    "This is the set of genes which we would like to describe.\n",
    "\n",
    "**Note**: Replace `all_genes` with your own list."
   ]
  },
  {
   "cell_type": "code",
   "execution_count": 8,
   "id": "ffb5bfb2-709b-447d-bc5d-9022cb3011fd",
   "metadata": {},
   "outputs": [],
   "source": [
    "with open(\"../perturbqa/datasets/k562_gw_mapping_full.json\") as f:\n",
    "    all_genes = [g for g in json.load(f) if g != \"non-targeting\"]"
   ]
  },
  {
   "cell_type": "markdown",
   "id": "15e49b5a-184b-43c5-be52-3e346cce80ab",
   "metadata": {},
   "source": [
    "## Load raw graphs\n",
    "\n",
    "Files that return tuples are bipartite graphs."
   ]
  },
  {
   "cell_type": "code",
   "execution_count": 9,
   "id": "edc452c5-24f9-4c0e-bb14-d89f01c55f7b",
   "metadata": {},
   "outputs": [
    {
     "name": "stdout",
     "output_type": "stream",
     "text": [
      "55604\n",
      "548403\n",
      "13310\n",
      "19441 18627 42094\n",
      "10373 14809\n",
      "4431 3580\n",
      "18479\n"
     ]
    }
   ],
   "source": [
    "fp_ensembl = \"../perturbqa/datasets/kg/ensembl.json\"\n",
    "with open(fp_ensembl) as f:\n",
    "    ensembl_data = json.load(f)\n",
    "print(len(ensembl_data))\n",
    "\n",
    "fp_uniprot = \"../perturbqa/datasets/kg/uniprot.json\"\n",
    "with open(fp_uniprot) as f:\n",
    "    uniprot_data = json.load(f)\n",
    "print(len(uniprot_data))\n",
    "\n",
    "fp_bioplex = \"../perturbqa/datasets/kg/bioplex.json\"\n",
    "with open(fp_bioplex) as f:\n",
    "    bioplex_data = json.load(f)\n",
    "print(len(bioplex_data))\n",
    "\n",
    "fp_go = \"../perturbqa/datasets/kg/go.json\"\n",
    "with open(fp_go) as f:\n",
    "    genes_to_go, go_to_genes, go_to_go = json.load(f)\n",
    "print(len(genes_to_go), len(go_to_genes), len(go_to_go))\n",
    "\n",
    "fp_reactome = \"../perturbqa/datasets/kg/reactome.json\"\n",
    "with open(fp_reactome) as f:\n",
    "    gene_to_reaction, reaction_to_gene = json.load(f)\n",
    "print(len(gene_to_reaction), len(reaction_to_gene))\n",
    "\n",
    "fp_corum = \"../perturbqa/datasets/kg/corum.json\"\n",
    "with open(fp_corum) as f:\n",
    "    gene_to_complex, complex_to_gene = json.load(f)\n",
    "print(len(gene_to_complex), len(complex_to_gene))\n",
    "\n",
    "fp_string = \"../perturbqa/datasets/kg/string.json\"\n",
    "with open(fp_string) as f:\n",
    "    string_data = json.load(f)\n",
    "print(len(string_data))"
   ]
  },
  {
   "cell_type": "code",
   "execution_count": 10,
   "id": "7f1d0eaa-23e6-4d00-b027-17ec061653a4",
   "metadata": {},
   "outputs": [
    {
     "name": "stdout",
     "output_type": "stream",
     "text": [
      "go 24\n",
      "reactome 4\n",
      "corum 0\n",
      "bioplex 0\n",
      "string 47\n"
     ]
    }
   ],
   "source": [
    "all_graphs = {\n",
    "\t\"go\": {**genes_to_go, **go_to_genes},\n",
    "\t\"reactome\": {**gene_to_reaction, **reaction_to_gene},\n",
    "\t\"corum\": {**gene_to_complex, **complex_to_gene},\n",
    "\t\"bioplex\": bioplex_data,\n",
    "\t\"string\": string_data,\n",
    "}\n",
    "\n",
    "# remove most common\n",
    "common = defaultdict(list)\n",
    "max_degree = 1000\n",
    "for graph_name, graph in all_graphs.items():\n",
    "    for k, v in graph.items():\n",
    "        if len(v) > max_degree:\n",
    "            common[graph_name].append(k)\n",
    "    print(graph_name, len(common[graph_name]))\n",
    "\n",
    "for graph_name in [\"go\", \"string\"]:\n",
    "    for common_term in common[graph_name]:\n",
    "        del all_graphs[graph_name][common_term]\n",
    "    all_graphs[graph_name] = {key:[v for v in val if v not in common[graph_name]] for key, val in all_graphs[graph_name].items()}"
   ]
  },
  {
   "cell_type": "markdown",
   "id": "09ff373c-50d7-4e78-85e6-462785d68163",
   "metadata": {},
   "source": [
    "## Convert into descriptions"
   ]
  },
  {
   "cell_type": "markdown",
   "id": "e6106f43-69ca-43ed-9c45-b951bade369d",
   "metadata": {},
   "source": [
    "Ensembl"
   ]
  },
  {
   "cell_type": "code",
   "execution_count": 11,
   "id": "72aac860-94d5-4598-9a72-01aa1c3f62cd",
   "metadata": {},
   "outputs": [],
   "source": [
    "ensembl_dict = {entry[\"name\"]: entry[\"description\"] for entry in ensembl_data.values()}\n",
    "\n",
    "def ensembl_to_text(gene):\n",
    "    if gene not in ensembl_dict:\n",
    "        return []\n",
    "    desc = ensembl_dict[gene]\n",
    "    text = f\"Description of gene: {desc}\"\n",
    "    text = text.split(\"[Source:\")[0]  # trim this off\n",
    "    return [text]"
   ]
  },
  {
   "cell_type": "markdown",
   "id": "ae5ed4fc-1968-4fba-83ac-97a609bc6981",
   "metadata": {},
   "source": [
    "UniProt"
   ]
  },
  {
   "cell_type": "code",
   "execution_count": 14,
   "id": "517992cc-c38c-45dd-a50e-bae25501f831",
   "metadata": {},
   "outputs": [
    {
     "name": "stderr",
     "output_type": "stream",
     "text": [
      "100%|██████████| 548403/548403 [02:05<00:00, 4352.62it/s]"
     ]
    },
    {
     "name": "stdout",
     "output_type": "stream",
     "text": [
      "8161\n"
     ]
    },
    {
     "name": "stderr",
     "output_type": "stream",
     "text": [
      "\n"
     ]
    }
   ],
   "source": [
    "uniprot_dict = defaultdict(list)\n",
    "for entry in tqdm(uniprot_data):\n",
    "    genes = entry[\"gene\"]\n",
    "    if type(genes) is str:\n",
    "        genes = [genes]\n",
    "    for gene in genes:\n",
    "        if gene not in all_genes:\n",
    "            continue\n",
    "        uniprot_dict[gene].append(entry)\n",
    "uniprot_dict = dict(uniprot_dict)\n",
    "print(len(uniprot_dict))"
   ]
  },
  {
   "cell_type": "code",
   "execution_count": 15,
   "id": "7aeea209-891b-4b9d-8d44-cc9694d5615d",
   "metadata": {},
   "outputs": [],
   "source": [
    "def uniprot_to_text(gene):\n",
    "    if gene not in uniprot_dict:\n",
    "        return []\n",
    "    description = []\n",
    "    entries = uniprot_dict[gene]\n",
    "\n",
    "    proteins = _combine_entries(entries, \"protein\")\n",
    "    if len(proteins) > 0 :\n",
    "        description.append(f\"Gene products: {', '.join(proteins)}\")\n",
    "\n",
    "    function = _combine_entries(entries, \"function\")\n",
    "    if len(function) > 0:\n",
    "        description.append(f\"Functions: {', '.join(function)}\")\n",
    "\n",
    "    subunit = _combine_entries(entries, \"subunit\")\n",
    "    if len(subunit) > 0:\n",
    "        description.append(f\"Quaternary structure: {' '.join(subunit)}\")\n",
    "\n",
    "    interaction = _combine_entries(entries, \"interaction\")\n",
    "    if len(interaction) > 0:\n",
    "        description.append(f\"Interacts with: {', '.join(interaction)}\")\n",
    "\n",
    "    description = [re.sub(\" \\(PubMed.*\\)\", \"\", d) for d in description]\n",
    "    return description\n",
    "\n",
    "\n",
    "def uniprot_to_text_long(gene):\n",
    "    if gene not in uniprot_dict:\n",
    "        return []\n",
    "    description = []\n",
    "    entries = uniprot_dict[gene]\n",
    "\n",
    "    proteins = _combine_entries(entries, \"protein\")\n",
    "    if len(proteins) > 0 :\n",
    "        description.extend(f\"Gene products: {x.strip()}\" for x in proteins)\n",
    "\n",
    "    function = _combine_entries(entries, \"function\")\n",
    "    if len(function) > 0:\n",
    "        for val in function:\n",
    "            if \").\" in val:\n",
    "                description.extend(f\"Functions: {x.strip()})\" for x in val.split(\").\")[:-1])\n",
    "            else:\n",
    "                description.append(f\"Functions: {val.strip()}\")\n",
    "\n",
    "    subunit = _combine_entries(entries, \"subunit\")\n",
    "    if len(subunit) > 0:\n",
    "        for val in subunit:\n",
    "            if \").\" in val:\n",
    "                description.extend(f\"Quaternary structure: {x.strip()})\" for x in val.split(\").\")[:-1])\n",
    "            else:\n",
    "                description.append(f\"Quaternary structure: {val.strip()}\")\n",
    "\n",
    "    interaction = _combine_entries(entries, \"interaction\")\n",
    "    if len(interaction) > 0:\n",
    "        for val in interaction:\n",
    "            if \").\" in val:\n",
    "                description.extend(f\"Interacts with: {x.strip()})\" for x in val.split(\").\")[:-1])\n",
    "            else:\n",
    "                description.append(f\"Interacts with: {val.strip()}\")\n",
    "\n",
    "    return description\n",
    "\n",
    "def _combine_entries(entries, key):\n",
    "    if type(entries) is dict:\n",
    "        entries = [entries]\n",
    "    vals = [entry[key] for entry in entries if len(entry[key]) > 0]\n",
    "    vals = [[x] if type(x) is str else x for x in vals]\n",
    "    if len(vals) == 0:\n",
    "        return []\n",
    "    vals = itertools.chain(*vals)\n",
    "    vals = sorted(set(vals))\n",
    "    return vals"
   ]
  },
  {
   "cell_type": "markdown",
   "id": "80f5203f-831b-4ebd-aa5a-97cfde9cf6bc",
   "metadata": {},
   "source": [
    "BioPlex"
   ]
  },
  {
   "cell_type": "code",
   "execution_count": 16,
   "id": "ce4c8449-98c5-4a37-9f20-3c7798fe559c",
   "metadata": {},
   "outputs": [],
   "source": [
    "def translate_bioplex(g1, rels):\n",
    "    # only 2 types of cells\n",
    "    cell_to_g2s = defaultdict(list)\n",
    "    for rel in rels:\n",
    "        g2, celltype = rel\n",
    "        cell_to_g2s[celltype].append(g2)\n",
    "    desc = []\n",
    "    for celltype, g2s in cell_to_g2s.items():\n",
    "        desc.append(f\"In {celltype} cells, {g1} may form a complex with {', '.join(g2s)}\")\n",
    "    return desc\n",
    "\n",
    "def translate_bioplex_long(g1, rels):\n",
    "    # only 2 types of cells\n",
    "    cell_to_g2s = defaultdict(list)\n",
    "    for rel in rels:\n",
    "        g2, celltype = rel\n",
    "        cell_to_g2s[celltype].append(g2)\n",
    "    desc = []\n",
    "    for celltype, g2s in cell_to_g2s.items():\n",
    "        for g2 in g2s:\n",
    "            desc.append(f\"In {celltype} cells, {g1} may form a complex with {g2}\")\n",
    "    return desc"
   ]
  },
  {
   "cell_type": "markdown",
   "id": "e9ed3c3f-41f0-491f-80cf-20e71aa87c0e",
   "metadata": {},
   "source": [
    "Gene ontology"
   ]
  },
  {
   "cell_type": "code",
   "execution_count": 17,
   "id": "6e1fa7eb-8a54-4ee1-84e1-893d6ea737ab",
   "metadata": {},
   "outputs": [
    {
     "name": "stdout",
     "output_type": "stream",
     "text": [
      "47914\n"
     ]
    }
   ],
   "source": [
    "fp_go = \"../perturbqa/datasets/kg/go_dict.json\"\n",
    "with open(fp_go) as f:\n",
    "    go_desc = json.load(f)\n",
    "print(len(go_desc))"
   ]
  },
  {
   "cell_type": "code",
   "execution_count": 18,
   "id": "c06e74bf-d46b-4a71-b372-103238384b54",
   "metadata": {},
   "outputs": [],
   "source": [
    "go_to_english = {\n",
    "    \"NOT|acts_upstream_of_or_within\": \"does not act upstream of or within\",\n",
    "    \"NOT|colocalizes_with\": \"does not colocalize with\",\n",
    "    \"NOT|contributes_to\": \"does not contribute to\",\n",
    "    \"NOT|enables\": \"does not enable\",\n",
    "    \"NOT|involved_in\": \"is not involved in\",\n",
    "    \"NOT|is_active_in\": \"is not active in\",\n",
    "    \"NOT|located_in\": \"is not located in\",\n",
    "    \"NOT|part_of\": \"is not part of\",\n",
    "    \"acts_upstream_of\": \"acts upstream of\",\n",
    "    \"acts_upstream_of_negative_effect\": \"acts upstream of negative effect\",\n",
    "    \"acts_upstream_of_or_within\": \"acts upstream of or within\",\n",
    "    \"acts_upstream_of_or_within_negative_effect\": \"acts upstream of or within negative effect\",\n",
    "    \"acts_upstream_of_or_within_positive_effect\": \"acts upstream of or within positive effect\",\n",
    "    \"acts_upstream_of_positive_effect\": \"acts upstream of positive effect\",\n",
    "    \"colocalizes_with\": \"colocalizes with\",\n",
    "    \"contributes_to\": \"contributes to\",\n",
    "    \"enables\": \"enables\",\n",
    "    \"involved_in\": \"involved in\",\n",
    "    \"is_active_in\": \"is active in\",\n",
    "    \"located_in\": \"is located in\",\n",
    "    \"part_of\": \"is part of\",\n",
    "}"
   ]
  },
  {
   "cell_type": "code",
   "execution_count": 19,
   "id": "679007da-1b98-4ed8-9955-14c3bc920faa",
   "metadata": {},
   "outputs": [],
   "source": [
    "def translate_go_rel(rel):\n",
    "    if rel in go_to_english:\n",
    "        rel = go_to_english[rel]\n",
    "    elif rel in go_desc:\n",
    "        rel = go_desc[rel]\n",
    "    return rel"
   ]
  },
  {
   "cell_type": "code",
   "execution_count": 20,
   "id": "351cb82f-bbe3-476a-80d0-c61f8e93e4bf",
   "metadata": {},
   "outputs": [],
   "source": [
    "def translate_go(g1, rels):\n",
    "    desc = []\n",
    "    for rel in rels:\n",
    "        go_term, rel = rel\n",
    "        desc.append(f\"{g1} {translate_go_rel(rel)} {translate_go_rel(go_term)}.\")\n",
    "    desc = [d for d in desc if \"molecular_function\" not in d and \"biological_process\" not in d and \"protein_binding\" not in d]\n",
    "    return desc"
   ]
  },
  {
   "cell_type": "markdown",
   "id": "4b34ae4a-7f12-494b-bc7c-6352b5c9b2a7",
   "metadata": {},
   "source": [
    "Reactome"
   ]
  },
  {
   "cell_type": "code",
   "execution_count": 21,
   "id": "ad7d0a24-05f7-4234-b48f-546605894055",
   "metadata": {},
   "outputs": [],
   "source": [
    "def translate_reactome(g1, rels):\n",
    "    # only 2 types of locs\n",
    "    loc_to_g2s = defaultdict(list)\n",
    "    for rel in rels:\n",
    "        g2, loc1 = rel\n",
    "        loc_to_g2s[loc1].append(g2)\n",
    "    desc = []\n",
    "    for loc1, g2s in loc_to_g2s.items():\n",
    "        desc.append(f\"In the {loc1}, {g1} enables {', '.join(g2s)}\")\n",
    "    return desc\n",
    "\n",
    "def translate_reactome_long(g1, rels):\n",
    "    # only 2 types of locs\n",
    "    loc_to_g2s = defaultdict(list)\n",
    "    for rel in rels:\n",
    "        g2, loc1 = rel\n",
    "        loc_to_g2s[loc1].append(g2)\n",
    "    desc = []\n",
    "    for loc1, g2s in loc_to_g2s.items():\n",
    "        for g2 in g2s:\n",
    "            desc.append(f\"In the {loc1}, {g1} enables {g2}\")\n",
    "    return desc"
   ]
  },
  {
   "cell_type": "markdown",
   "id": "43851e82-ea48-40cf-ab2b-2144a965da50",
   "metadata": {},
   "source": [
    "CORUM\n",
    "\n",
    "**Note**: CORUM is licensed under CC-BY-NC."
   ]
  },
  {
   "cell_type": "code",
   "execution_count": 22,
   "id": "c1ae6ae4-7a31-4552-81ba-9af4d780fa83",
   "metadata": {},
   "outputs": [],
   "source": [
    "complex_to_desc = {}\n",
    "df_corum = pd.read_csv(\"../perturbqa/datasets/kg/corum_human_5.1.txt\", sep=\"\\t\")\n",
    "df_corum = df_corum.replace({float(\"nan\"): None}).to_dict(orient=\"records\")\n",
    "\n",
    "for item in df_corum:\n",
    "    complex_name = item[\"complex_name\"]\n",
    "    cell_line = item[\"complex_name\"]\n",
    "    complex_comment = item[\"comment_complex\"]\n",
    "    subunit_comment = item[\"comment_members\"]\n",
    "    disease_comment = item[\"comment_disease\"]\n",
    "    desc = f\"{complex_name}\"\n",
    "    if cell_line is not None:\n",
    "        desc = desc + f\" in {cell_line}.\"\n",
    "    if complex_comment is not None:\n",
    "        desc = desc + f\" {complex_comment}\"\n",
    "    if subunit_comment is not None:\n",
    "        desc = desc + f\" {subunit_comment}\"\n",
    "    if disease_comment is not None:\n",
    "        desc = desc + f\" {disease_comment}\"\n",
    "    complex_to_desc[complex_name] = desc"
   ]
  },
  {
   "cell_type": "code",
   "execution_count": 23,
   "id": "9ed8ada2-d61d-4ba5-a002-390d63af26fc",
   "metadata": {},
   "outputs": [],
   "source": [
    "def translate_corum(g1, rels):\n",
    "    desc = []\n",
    "    for rel in rels:\n",
    "        complex1, celltype1 = rel\n",
    "        desc.append(f\"{g1} is a member of {complex1} in {celltype1}.\")\n",
    "    return desc"
   ]
  },
  {
   "cell_type": "markdown",
   "id": "9fd3701d-51e2-4780-ba3c-0cf290c1f7c1",
   "metadata": {},
   "source": [
    "STRING"
   ]
  },
  {
   "cell_type": "code",
   "execution_count": 24,
   "id": "91cc55fe-2538-418e-a500-789c042e2386",
   "metadata": {},
   "outputs": [],
   "source": [
    "string_evidence = {\n",
    "    \"database\": \"database evidence in humans\",\n",
    "    \"database_transferred\": \"database evidence in other animals\",\n",
    "    \"experiments\": \"experimental evidence in humans\",\n",
    "    \"experiments_transferred\": \"experimental evidence in other animals\",\n",
    "    \"textmining\": \"literature evidence in humans\",\n",
    "    \"textmining_transferred\": \"literature evidence in other animals\",\n",
    "}"
   ]
  },
  {
   "cell_type": "code",
   "execution_count": 25,
   "id": "17169f8a-f792-444d-97b1-93fae7b4e425",
   "metadata": {},
   "outputs": [],
   "source": [
    "def translate_string(g1, rel):\n",
    "    desc = []\n",
    "    # types of evidence\n",
    "    rel_to_g2s = defaultdict(list)\n",
    "    for rel in rels:\n",
    "        g2, rel1 = rel\n",
    "        rel1 = \", \".join([string_evidence[e] for e in rel1])\n",
    "        rel_to_g2s[rel1].append(g2)\n",
    "    desc = []\n",
    "    for rel1, g2s in rel_to_g2s.items():\n",
    "        desc.append(f\"Based on evidence from {rel1}, {g1} may physically interact with {', '.join(g2s)}.\")\n",
    "    return desc\n",
    "\n",
    "def translate_string_long(g1, rel):\n",
    "    desc = []\n",
    "    # types of evidence\n",
    "    rel_to_g2s = defaultdict(list)\n",
    "    for rel in rels:\n",
    "        g2, rel1 = rel\n",
    "        rel1 = \", \".join([string_evidence[e] for e in rel1])\n",
    "        rel_to_g2s[rel1].append(g2)\n",
    "    desc = []\n",
    "    for rel1, g2s in rel_to_g2s.items():\n",
    "        for g2 in g2s:\n",
    "            desc.append(f\"Based on evidence from {rel1}, {g1} may physically interact with {g2}.\")\n",
    "    return desc"
   ]
  },
  {
   "cell_type": "markdown",
   "id": "e5f7c44d-bb45-4ed2-bc6f-50a11d124ffc",
   "metadata": {},
   "source": [
    "## Serialize everything"
   ]
  },
  {
   "cell_type": "code",
   "execution_count": 26,
   "id": "62dede01-a23c-4b5d-a7a4-065ab772b022",
   "metadata": {},
   "outputs": [],
   "source": [
    "translate = {\n",
    "    \"go\": translate_go,\n",
    "    \"corum\": translate_corum,\n",
    "    \"reactome\": translate_reactome,\n",
    "    \"bioplex\": translate_bioplex,\n",
    "    \"string\": translate_string,\n",
    "\n",
    "    \"ensembl\": ensembl_to_text,\n",
    "    \"uniprot\": uniprot_to_text,\n",
    "    \n",
    "    \n",
    "    #### option to generate longer descriptions if desired\n",
    "\n",
    "    # \"reactome\": translate_reactome_long,\n",
    "    # \"bioplex\": translate_bioplex_long,\n",
    "    # \"string\": translate_string_long\n",
    "    \n",
    "    # \"uniprot\": uniprot_to_text_long,\n",
    "}"
   ]
  },
  {
   "cell_type": "code",
   "execution_count": 27,
   "id": "c72cf37c-a118-428d-b68a-dfd0ca244bcf",
   "metadata": {},
   "outputs": [
    {
     "name": "stdout",
     "output_type": "stream",
     "text": [
      "8454 8454\n"
     ]
    }
   ],
   "source": [
    "desc = defaultdict(set)\n",
    "max_items = 50\n",
    "for gene in all_genes:\n",
    "    # decreasing order of desired-ness\n",
    "    for db_name in [\"ensembl\", \"uniprot\"]:\n",
    "        desc[gene].update(translate[db_name](gene))\n",
    "    \n",
    "    for graph_name in [\"reactome\", \"corum\", \"go\", \"bioplex\", \"string\"]:\n",
    "        graph = all_graphs[graph_name]\n",
    "        if gene not in graph:\n",
    "            continue\n",
    "        rels = graph[gene]\n",
    "        # tuple mashing\n",
    "        if graph_name == \"string\":\n",
    "            rels = [(r[0], tuple(r[1])) for r in rels]\n",
    "        if type(rels[0]) is list:\n",
    "            rels = [tuple(r) for r in rels]\n",
    "\n",
    "        # if too many, skip lowest fidelity\n",
    "        if len(rels) > 50 and graph_name == \"string\":\n",
    "            rels = [r for r in rels if len(r[1]) > 1]\n",
    "        if len(rels) > 50 and graph_name == \"bioplex\":\n",
    "            continue\n",
    "        rels = translate[graph_name](gene, rels)\n",
    "        desc[gene].update(rels)\n",
    "        if len(desc[gene]) > max_items:\n",
    "            break\n",
    "\n",
    "print(len(all_genes), len(desc))"
   ]
  },
  {
   "cell_type": "markdown",
   "id": "1ef04999-ec09-40c8-95ad-c1ef645d8ca6",
   "metadata": {},
   "source": [
    "## Example prompt creation\n",
    "\n",
    "You may copy the appropriate template from `examples/summer/prompts` "
   ]
  },
  {
   "cell_type": "code",
   "execution_count": 28,
   "id": "0974cd9f-60c6-4a53-959b-a5ab1ba0f8f3",
   "metadata": {},
   "outputs": [],
   "source": [
    "prompt_perturbation = f\"\"\"You are an expert molecular biologist who studies how genes are related using Perturb-seq.\n",
    "\n",
    "Task: You are writing a brief overview of the human gene {{gene}}, with a focus on its molecular and cellular functions. You will be provided a set of database entries about the gene. Ensure that your overview remains faithful to this domain knowledge.\n",
    "\n",
    "Format:\n",
    "- Write one to two sentences describing the primary molecular and cellular function of gene {{gene}}.\n",
    "- Write one sentence describing the potential downstream impact of perturbing gene {{gene}} via gene knockdown.\n",
    "\n",
    "Constraints:\n",
    "- Maintain a professional tone throughout.\n",
    "- Do not comment on your own writing.\n",
    "- Do not add any notes or references. Do not make up additional information.\n",
    "- Do not discuss the importance or impact of the gene. Focus only on its function.\n",
    "\n",
    "Domain knowledge:\n",
    "{{entries}}\n",
    "\n",
    "Downstream effects of perturbing {{gene}} via gene knockdown:\n",
    "\"\"\""
   ]
  },
  {
   "cell_type": "code",
   "execution_count": 29,
   "id": "1bdec92e-9a50-45f9-ae5a-94e82e0ae2c4",
   "metadata": {},
   "outputs": [
    {
     "name": "stdout",
     "output_type": "stream",
     "text": [
      "You are an expert molecular biologist who studies how genes are related using Perturb-seq.\n",
      "\n",
      "Task: You are writing a brief overview of the human gene ABCE1, with a focus on its molecular and cellular functions. You will be provided a set of database entries about the gene. Ensure that your overview remains faithful to this domain knowledge.\n",
      "\n",
      "Format:\n",
      "- Write one to two sentences describing the primary molecular and cellular function of gene ABCE1.\n",
      "- Write one sentence describing the potential downstream impact of perturbing gene ABCE1 via gene knockdown.\n",
      "\n",
      "Constraints:\n",
      "- Maintain a professional tone throughout.\n",
      "- Do not comment on your own writing.\n",
      "- Do not add any notes or references. Do not make up additional information.\n",
      "- Do not discuss the importance or impact of the gene. Focus only on its function.\n",
      "\n",
      "Domain knowledge:\n",
      "- ABCE1 is active in cytosolic ribosome.\n",
      "- ABCE1 involved in translational initiation.\n",
      "- Functions: (Microbial infection) May act as a chaperone for post-translational events during HIV-1 capsid assembly., (Microbial infection) Plays a role in the down-regulation of the 2-5A/RNASEL pathway during encephalomyocarditis virus (EMCV) and HIV-1 infections., Nucleoside-triphosphatase (NTPase) involved in ribosome recycling by mediating ribosome disassembly.\n",
      "- ABCE1 is located in cytoplasm.\n",
      "- ABCE1 enables ATP hydrolysis activity.\n",
      "- Based on evidence from experimental evidence in humans, experimental evidence in other animals, literature evidence in other animals, ABCE1 may physically interact with EIF3J, RPLP0.\n",
      "- Based on evidence from experimental evidence in humans, experimental evidence in other animals, ABCE1 may physically interact with EIF1AX, EIF3A, EIF3B, EIF3C, EIF3D, EIF3E, EIF3F, EIF3G, EIF3H, EIF3I, EIF3K, EIF3L, EIF3M, G3BP2, LTO1, MFGE8, PSMD14, RACK1, RPL12, RPL23, RPL4, RPL7A, RPL9, RPL9P7, RPL9P8, RPL9P9, RPS10, RPS10-NUDT3, RPS11, RPS12, RPS13, RPS14, RPS15, RPS15A, RPS16, RPS17, RPS18, RPS19, RPS2, RPS20, RPS21, RPS24, RPS25, RPS26, RPS27, RPS27A, RPS28, RPS29, RPS3, RPS3A, RPS4X, RPS5, RPS6, RPS7, RPS8, RPS9, RPSA, YAE1.\n",
      "- ABCE1 is located in mitochondrion.\n",
      "- ABCE1 enables CTPase activity.\n",
      "- ABCE1 is located in membrane.\n",
      "- ABCE1 enables ribonucleoside triphosphate phosphatase activity.\n",
      "- ABCE1 involved in ribosome disassembly.\n",
      "- ABCE1 involved in negative regulation of endoribonuclease activity.\n",
      "- Based on evidence from experimental evidence in other animals, literature evidence in other animals, ABCE1 may physically interact with DENR, EIF1B, MRTO4.\n",
      "- Based on evidence from experimental evidence in humans, database evidence in humans, ABCE1 may physically interact with RNASEL.\n",
      "- Based on evidence from experimental evidence in humans, experimental evidence in other animals, literature evidence in humans, ABCE1 may physically interact with EIF5, RPS23.\n",
      "- ABCE1 enables GTPase activity.\n",
      "- ABCE1 involved in rescue of stalled ribosome.\n",
      "- ABCE1 enables ribosomal small subunit binding.\n",
      "- Based on evidence from experimental evidence in humans, experimental evidence in other animals, literature evidence in humans, literature evidence in other animals, ABCE1 may physically interact with EIF1, ETF1.\n",
      "- Description of gene: ATP binding cassette subfamily E member 1 \n",
      "- ABCE1 involved in regulation of translation.\n",
      "- ABCE1 is located in cytosol.\n",
      "- ABCE1 enables 4 iron, 4 sulfur cluster binding.\n",
      "- Gene products: ABC transporter E family member 1, ATP-binding cassette sub-family E member 1, Protein Pixie\n",
      "- ABCE1 enables ATP binding.\n",
      "- ABCE1 enables iron ion binding.\n",
      "- In 293T cells, ABCE1 may form a complex with IGF2R\n",
      "- Interacts with: O75822, P03347-1, P61221, P69479, Q9WH76\n",
      "- Based on evidence from experimental evidence in other animals, literature evidence in humans, ABCE1 may physically interact with UBL4A.\n",
      "- Quaternary structure: (Microbial infection) Interacts with Chandipura virus matrix protein. (Microbial infection) Interacts with HIV-1 proteins Vif and Gag. (Microbial infection) Interacts with HIV-2 protein Gag. Interacts with PINK1.\n",
      "- ABCE1 involved in ribosomal subunit export from nucleus.\n",
      "- In the mitochondrial matrix, ABCE1 enables Interferon alpha/beta signaling, ABCE1 binds RNASEL, inhibiting it, Interferon alpha/beta signaling, ABCE1 binds RNASEL, inhibiting it\n",
      "- In the cytosol, ABCE1 enables OAS antiviral response, RNASEL binds 2'-5' oligoadenylate, ABCE1 binds RNASEL, OAS antiviral response, RNASEL binds 2'-5' oligoadenylate, ABCE1 binds RNASEL\n",
      "- ABCE1 involved in translational termination.\n",
      "- Based on evidence from experimental evidence in humans, literature evidence in humans, literature evidence in other animals, ABCE1 may physically interact with EIF2S1, EIF2S2.\n",
      "- ABCE1 is located in mitochondrial matrix.\n",
      "- ABCE1 enables endoribonuclease inhibitor activity.\n",
      "- Based on evidence from experimental evidence in humans, literature evidence in humans, ABCE1 may physically interact with DCP2, EIF2S3, FDPS, PSMD1, PSMD4.\n",
      "\n",
      "Downstream effects of perturbing ABCE1 via gene knockdown:\n",
      "\n"
     ]
    }
   ],
   "source": [
    "gene = \"ABCE1\"\n",
    "entries = \"\\n\".join([\"- \" + d for d in desc[gene]])\n",
    "\n",
    "print(prompt_perturbation.format(gene=gene, entries=entries))"
   ]
  },
  {
   "cell_type": "code",
   "execution_count": null,
   "id": "9348a543",
   "metadata": {},
   "outputs": [],
   "source": []
  }
 ],
 "metadata": {
  "kernelspec": {
   "display_name": "cell2sentence",
   "language": "python",
   "name": "python3"
  },
  "language_info": {
   "codemirror_mode": {
    "name": "ipython",
    "version": 3
   },
   "file_extension": ".py",
   "mimetype": "text/x-python",
   "name": "python",
   "nbconvert_exporter": "python",
   "pygments_lexer": "ipython3",
   "version": "3.8.20"
  }
 },
 "nbformat": 4,
 "nbformat_minor": 5
}
