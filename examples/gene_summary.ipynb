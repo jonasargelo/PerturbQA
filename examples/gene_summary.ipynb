{
 "cells": [
  {
   "cell_type": "markdown",
   "id": "21ec7c20-c23c-427b-acbc-591f47626aac",
   "metadata": {},
   "source": [
    "# Precomputed gene summaries"
   ]
  },
  {
   "cell_type": "code",
   "execution_count": 3,
   "id": "30d889e1-0d89-42c2-8ed4-adbdab5c6165",
   "metadata": {},
   "outputs": [],
   "source": [
    "import os\n",
    "import json"
   ]
  },
  {
   "cell_type": "code",
   "execution_count": 4,
   "id": "efb11c30-70d2-4bef-aacf-e42f3c01fc94",
   "metadata": {},
   "outputs": [],
   "source": [
    "with open(\"../gene_summary/desc_pert.json\") as f:\n",
    "    desc_pert = json.load(f)\n",
    "\n",
    "with open(\"../gene_summary/desc_gene.json\") as f:\n",
    "    desc_gene = json.load(f)\n",
    "\n",
    "with open(\"../gene_summary/desc_1hop_pert.json\") as f:\n",
    "    desc_1hop_pert = json.load(f)\n",
    "\n",
    "with open(\"../gene_summary/desc_1hop_gene.json\") as f:\n",
    "    desc_1hop_gene = json.load(f)"
   ]
  },
  {
   "cell_type": "code",
   "execution_count": 5,
   "id": "125d02ee-1ae7-41db-9788-81a8a02e395a",
   "metadata": {},
   "outputs": [
    {
     "name": "stdout",
     "output_type": "stream",
     "text": [
      "The primary molecular and cellular function of gene ABCE1 is to facilitate ribosome recycling by mediating ribosome disassembly through its nucleoside-triphosphatase (NTPase) activity, and to act as a chaperone for post-translational events during HIV-1 capsid assembly. Additionally, ABCE1 plays a role in the down-regulation of the 2-5A/RNASEL pathway during viral infections.\n",
      "\n",
      "Perturbing gene ABCE1 via gene knockdown may disrupt ribosome recycling and viral capsid assembly, potentially leading to aberrant protein synthesis and altered viral replication dynamics.\n"
     ]
    }
   ],
   "source": [
    "print(desc_pert[\"ABCE1\"])"
   ]
  },
  {
   "cell_type": "code",
   "execution_count": 7,
   "id": "864ca58c-c3dd-4275-803b-f431bbf2030a",
   "metadata": {},
   "outputs": [
    {
     "name": "stdout",
     "output_type": "stream",
     "text": [
      "The primary molecular and cellular function of gene ABCE1 is to facilitate ribosome recycling by mediating ribosome disassembly through its nucleoside-triphosphatase (NTPase) activity, and to act as a chaperone for post-translational events during HIV-1 capsid assembly. Additionally, ABCE1 plays a role in down-regulating the 2-5A/RNASEL pathway during viral infections.\n",
      "\n",
      "Perturbations that might impact the expression of gene ABCE1 include alterations in the 2-5A/RNASEL pathway, HIV-1 capsid assembly, or ribosome recycling, as well as changes in the interactions with its binding partners, such as HIV-1 proteins Vif and Gag, HIV-2 protein Gag, PINK1, EIF3J, and MATRX_CHAV.\n"
     ]
    }
   ],
   "source": [
    "print(desc_gene[\"ABCE1\"])"
   ]
  },
  {
   "cell_type": "code",
   "execution_count": 8,
   "id": "fd1e1917-e59f-4e2d-8fa5-4b071c4ed3f1",
   "metadata": {},
   "outputs": [
    {
     "name": "stdout",
     "output_type": "stream",
     "text": [
      "Perturbing gene ABCE1 via gene knockdown may disrupt ribosome recycling, leading to aberrant protein synthesis and altered translational initiation and termination dynamics. This may also impact viral capsid assembly and the regulation of the 2-5A/RNASEL pathway during viral infections. Additionally, knockdown of ABCE1 may affect the rescue of stalled ribosomes and ribosomal subunit export from the nucleus. Furthermore, it may influence the activity of endoribonucleases and the binding of ribosomal small subunits.\n"
     ]
    }
   ],
   "source": [
    "print(desc_1hop_pert[\"ABCE1\"])"
   ]
  },
  {
   "cell_type": "code",
   "execution_count": 9,
   "id": "eeb00ffd-66ba-4f2b-8673-1554a0a638e9",
   "metadata": {},
   "outputs": [
    {
     "name": "stdout",
     "output_type": "stream",
     "text": [
      "Perturbations that may impact the levels of ABCE1 include alterations in the 2-5A/RNASEL pathway, HIV-1 capsid assembly, or ribosome recycling, as well as changes in the interactions with its binding partners, such as HIV-1 proteins Vif and Gag, HIV-2 protein Gag, PINK1, EIF3J, and MATRX_CHAV. Additionally, perturbations in the regulation of translation, translational initiation, and translational termination may also affect ABCE1 levels. Furthermore, changes in the activity of its binding partners, such as EIF1AX, EIF3A, EIF3B, and RPL12, may also impact ABCE1 expression.\n"
     ]
    }
   ],
   "source": [
    "print(desc_1hop_gene[\"ABCE1\"])"
   ]
  }
 ],
 "metadata": {
  "kernelspec": {
   "display_name": "cell2sentence",
   "language": "python",
   "name": "python3"
  },
  "language_info": {
   "codemirror_mode": {
    "name": "ipython",
    "version": 3
   },
   "file_extension": ".py",
   "mimetype": "text/x-python",
   "name": "python",
   "nbconvert_exporter": "python",
   "pygments_lexer": "ipython3",
   "version": "3.8.20"
  }
 },
 "nbformat": 4,
 "nbformat_minor": 5
}
